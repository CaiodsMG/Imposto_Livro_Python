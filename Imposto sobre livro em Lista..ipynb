{
 "cells": [
  {
   "cell_type": "markdown",
   "metadata": {},
   "source": [
    "# Exercícios\n",
    "\n",
    "## 1. Mudança de Carga Tributária\n",
    "\n",
    "- Reformas e mudanças de cargas tributárias são bem comuns no Brasil.\n",
    "\n",
    "Digamos que você trabalhe em uma empresa de ecommerce\n",
    "\n",
    "No Brasil, o imposto sobre livros é zerado. De um ano para o outro, o governo criou um novo imposto que incide em 10% sobre o valor dos livros e agora você precisa alterar o registro dos preços dos livros da empresa para garantir que esse imposto vai ser repassado para o preço final do produto.\n",
    "\n",
    "Crie um código que recalcule o valor do livro da sua lista de produtos e ajuste na tabela.\n",
    "\n",
    "Além disso, calcule qual vai ser o impacto financeiro da criação desse imposto para a empresa (ou seja, quanto que o imposto vai aumentar de custo para a empresa)\n"
   ]
  },
  {
   "cell_type": "code",
   "execution_count": 58,
   "metadata": {},
   "outputs": [
    {
     "name": "stdout",
     "output_type": "stream",
     "text": [
      "Faturameno Antigo: R$2,000,000\n",
      "O novo valor do Livro será de: R$44.00\n",
      "Faturamento Atual: R$2,200,000\n",
      "O impacto foi de: R$200,000\n"
     ]
    }
   ],
   "source": [
    "produtos = ['computador', 'livro', 'tablet', 'celular', 'tv', 'ar condicionado', 'alexa', 'máquina de café', 'kindle']\n",
    "\n",
    "#cada item da lista dos produtos corresponde a quantidade de vendas no mês e preço, nessa ordem\n",
    "produtos_ecommerce = [\n",
    "    [10000, 2500],\n",
    "    [50000, 40],\n",
    "    [7000, 1200],\n",
    "    [20000, 1500],\n",
    "    [5800, 1300],\n",
    "    [7200, 2500],\n",
    "    [200, 800],\n",
    "    [3300, 700],\n",
    "    [1900, 400]\n",
    "]\n",
    "if 'livro' in produtos:\n",
    "    i_livro = produtos.index('livro')\n",
    "    valor_livro = produtos_ecommerce[i_livro][1]\n",
    "    qtde = produtos_ecommerce[i_livro][0]\n",
    "    total_antigo = qtde * valor_livro\n",
    "    print(f'Faturameno Antigo: R${total_antigo:,}') \n",
    "    \n",
    "    valor_reajustado = valor_livro + produtos_ecommerce[i_livro][1] * 0.10\n",
    "    print(f'O novo valor do Livro será de: R${valor_reajustado:.2f}')\n",
    "    produtos_ecommerce[i_livro][1] = valor_livro + produtos_ecommerce[i_livro][1] * 0.10\n",
    "    valor_livro_novo = produtos_ecommerce[i_livro][1]\n",
    "    qtde = produtos_ecommerce[i_livro][0]\n",
    "    total_novo = qtde * valor_livro_novo\n",
    "    print(f'Faturamento Atual: R${total_novo:,.0f}')\n",
    "    \n",
    "    impacto = total_novo - total_antigo\n",
    "    print(f'O impacto foi de: R${impacto:,.0f}')\n",
    "else:\n",
    "    pass"
   ]
  },
  {
   "cell_type": "code",
   "execution_count": null,
   "metadata": {},
   "outputs": [],
   "source": []
  }
 ],
 "metadata": {
  "kernelspec": {
   "display_name": "Python 3 (ipykernel)",
   "language": "python",
   "name": "python3"
  },
  "language_info": {
   "codemirror_mode": {
    "name": "ipython",
    "version": 3
   },
   "file_extension": ".py",
   "mimetype": "text/x-python",
   "name": "python",
   "nbconvert_exporter": "python",
   "pygments_lexer": "ipython3",
   "version": "3.11.5"
  }
 },
 "nbformat": 4,
 "nbformat_minor": 4
}
